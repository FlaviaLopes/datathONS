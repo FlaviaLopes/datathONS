{
  "nbformat": 4,
  "nbformat_minor": 0,
  "metadata": {
    "colab": {
      "provenance": [],
      "collapsed_sections": [
        "WSqOnJ6xs2Di",
        "TVLuRwLqswGZ"
      ]
    },
    "kernelspec": {
      "name": "python3",
      "display_name": "Python 3"
    },
    "language_info": {
      "name": "python"
    }
  },
  "cells": [
    {
      "cell_type": "markdown",
      "source": [
        "### instalação de pacotes [executar]"
      ],
      "metadata": {
        "id": "WSqOnJ6xs2Di"
      }
    },
    {
      "cell_type": "code",
      "source": [
        "!pip install pdfminer.six\n",
        "!pip3 install unidecode\n",
        "!python -m spacy download pt_core_news_sm"
      ],
      "metadata": {
        "id": "oSYa_BxAq5aB"
      },
      "execution_count": null,
      "outputs": []
    },
    {
      "cell_type": "markdown",
      "source": [
        "### Imports [executar]"
      ],
      "metadata": {
        "id": "TVLuRwLqswGZ"
      }
    },
    {
      "cell_type": "code",
      "source": [
        "import os\n",
        "import unidecode\n",
        "import re\n",
        "from pdfminer.high_level import extract_text\n",
        "from glob import glob\n",
        "import spacy\n",
        "import pt_core_news_sm"
      ],
      "metadata": {
        "id": "Z07ncyJhuOWU"
      },
      "execution_count": null,
      "outputs": []
    },
    {
      "cell_type": "markdown",
      "source": [
        "# Explorando os PDFs\n",
        "- adaptando código para leitura de todos pdfs"
      ],
      "metadata": {
        "id": "WNSoxHBYt9D7"
      }
    },
    {
      "cell_type": "code",
      "execution_count": null,
      "metadata": {
        "id": "YY83-lVaqXiP"
      },
      "outputs": [],
      "source": [
        "cct_com_problemas = '/content/drive/MyDrive/Hacka datathONS/CCTs com problemas'"
      ]
    },
    {
      "cell_type": "markdown",
      "source": [
        "### métodos para extrair e limpar texto dos PDFs"
      ],
      "metadata": {
        "id": "hkaOEm7QtEpo"
      }
    },
    {
      "cell_type": "code",
      "source": [
        "def extract_from_pdf(file_path) -> str:\n",
        "  try:\n",
        "    return extract_text(file_path)\n",
        "  except ValueError:\n",
        "    return file_path\n",
        "    \n",
        "def to_ascii(text):\n",
        "  '''\n",
        "  padroniza o texto [...]\n",
        "  '''\n",
        "  outstring = ''\n",
        "  for i in range(len(text)):\n",
        "    outstring = outstring + unidecode.unidecode(text[i])\n",
        "  return outstring\n",
        "\n",
        "def clean_text(text):\n",
        "  '''\n",
        "  transforma em lowercase e remove quebras de linha e outros caracteres\n",
        "  '''\n",
        "  text = str.lower(text)\n",
        "  pattern=r'[^a-zA-z0-9\\s]'\n",
        "  text=re.sub(pattern,'',text)\n",
        "  text=re.sub('_', '', text)\n",
        "  text=re.sub('\\n', '', text)\n",
        "  text=re.sub(' +', ' ', text)\n",
        "  return text"
      ],
      "metadata": {
        "id": "ovnaqBeNx7E2"
      },
      "execution_count": null,
      "outputs": []
    },
    {
      "cell_type": "markdown",
      "source": [
        "### teste"
      ],
      "metadata": {
        "id": "0hy8t6C7tRne"
      }
    },
    {
      "cell_type": "code",
      "source": [
        "filenames = os.listdir(cct_com_problemas)\n",
        "\n",
        "text = extract_from_pdf(os.path.join(cct_com_problemas, filenames[0]))\n",
        "text = to_ascii(text)\n",
        "text = clean_text(text)"
      ],
      "metadata": {
        "id": "7xz_nhCBtXli"
      },
      "execution_count": null,
      "outputs": []
    },
    {
      "cell_type": "markdown",
      "source": [
        "___\n",
        "# Validações - Grupo 1\n",
        "\n",
        "- CNPJs\n",
        "- Razão social\n",
        "- endereços\n",
        "___\n",
        "\n",
        "- ONS\n",
        "  - Buscar se o CNPJ da ONS aparece no texto.\n",
        "    - obs.: se aparecer pelo menos uma vez corretamente então estará ok.\n",
        "  e se tiver um certo e outro errado?\n",
        "\n",
        "- Transmissora\n",
        "- Usuárias\n",
        "- Usuárias anuentes\n",
        "\n",
        "\n",
        "Possibilidades:\n",
        "(criar tokens e calcular similaridade entre endereços, em vez de match)\n",
        "\n",
        "- extrair todos CNPJs e buscar na base de quem são\n",
        "  - o CNPJ existe na base?\n",
        "  - a razão social deste CNPJ na base bate com o do doc?\n",
        "  - o endereço deste CNPJ na base bate com o do doc?\n",
        "\n"
      ],
      "metadata": {
        "id": "ikdccSWTBdFT"
      }
    },
    {
      "cell_type": "code",
      "source": [
        "def extract_all_cnpj(doc: str) -> list:\n",
        "  pass\n",
        "\n",
        "def get_razao_social(cnpj: str) -> str:\n",
        "  pass\n",
        "\n",
        "def get_endereco(cnpj: str) -> str:\n",
        "  pass\n",
        "\n",
        "cnpjs = extract_all_cnpj(doc)\n",
        "for it in cnpjs:\n",
        "  razao = get_razao_social(it)\n",
        "  endereco = get_endereco(it)\n",
        "  # existe algo parecido/igual no doc?"
      ],
      "metadata": {
        "id": "9EjAt6NP5E3q"
      },
      "execution_count": null,
      "outputs": []
    },
    {
      "cell_type": "code",
      "execution_count": null,
      "metadata": {
        "id": "yGvmwz_ySkSg"
      },
      "outputs": [],
      "source": [
        "CNPJ_ONS = '02.831.210/0001-57'\n",
        "CNPJ_PATTERN = '[0-9]{2}\\.?[0-9]{3}\\.?[0-9]{3}\\/?[0-9]{4}\\-?[0-9]{2}'\n",
        "\n",
        "def valida_cnpj_ons(texto):\n",
        "    cnpjs = re.findall(pattern=CNPJ_PATTERN, string=texto)\n",
        "    cnpjs = [cnpj.replace(' ', '') for cnpj in cnpjs]\n",
        "    \n",
        "    if CNPJ_ONS in cnpjs:\n",
        "        return True\n",
        "    else:\n",
        "        False"
      ]
    },
    {
      "cell_type": "markdown",
      "metadata": {
        "id": "hZFQ9J6MSkSh"
      },
      "source": [
        "Teste da função de validação do CNPJ do ONS"
      ]
    },
    {
      "cell_type": "code",
      "execution_count": null,
      "metadata": {
        "id": "ZyU9YGw3SkSi",
        "outputId": "76d9ec6d-7528-4fc5-cf4c-c76e0191e9cc"
      },
      "outputs": [
        {
          "name": "stdout",
          "output_type": "stream",
          "text": [
            "CNPJ do ONS encontrado no arquivo: ./Contratos_sem_problemas/CCTs assinados digitalmente\\CCT-2000-001-20 CEEE GT X RGE SUL-Assinado.pdf\n",
            "CNPJ do ONS encontrado no arquivo: ./Contratos_sem_problemas/CCTs assinados digitalmente\\CCT-2000-001-21 - CEEEE GT e RGE SUL-Assinado.pdf\n",
            "CNPJ do ONS encontrado no arquivo: ./Contratos_sem_problemas/CCTs assinados digitalmente\\CCT-2000-001-22 - CEEE GT e RGE SUL-Assinado.pdf\n",
            "CNPJ do ONS encontrado no arquivo: ./Contratos_sem_problemas/CCTs assinados digitalmente\\CCT-2000-001-23 - CEEE e RGE SUL (9908114-2000 TA23)-Assinado.pdf\n",
            "CNPJ do ONS encontrado no arquivo: ./Contratos_sem_problemas/CCTs assinados digitalmente\\CCT-2000-001-24 -CEEE T e RGE SUL-Assinado.pdf\n",
            "CNPJ do ONS encontrado no arquivo: ./Contratos_sem_problemas/CCTs assinados digitalmente\\CCT-2000-001-25 - CEEE T e RGE SUL-Assinado.pdf\n",
            "CNPJ do ONS encontrado no arquivo: ./Contratos_sem_problemas/CCTs assinados digitalmente\\CCT-2000-001-26 - CEEE T x RGE SUL-Assinado.pdf\n",
            "CNPJ do ONS encontrado no arquivo: ./Contratos_sem_problemas/CCTs assinados digitalmente\\CCT-2000-014-30_ CTEEP x EDP SP-Assinado.pdf\n",
            "CNPJ do ONS encontrado no arquivo: ./Contratos_sem_problemas/CCTs assinados digitalmente\\CCT-2000-014-31_CTEEP e EDP SP-Assinado.pdf\n",
            "CNPJ do ONS encontrado no arquivo: ./Contratos_sem_problemas/CCTs assinados digitalmente\\CCT-2000-014-32_CTEEP e EDP SP-Assinado.pdf\n"
          ]
        }
      ],
      "source": [
        "dir_contratos_sem_problemas = './Contratos_sem_problemas/CCTs assinados digitalmente' # Diretório onde estão os contratos\n",
        "contratos_sem_problemas = glob(f'{dir_contratos_sem_problemas}/*.pdf')                # Lista os pdf no diretório de dados\n",
        "\n",
        "for i, arquivo in enumerate(contratos_sem_problemas[:10]):\n",
        "    texto  = extract_text(arquivo).replace('\\n', '').replace(' ', '')\n",
        "    \n",
        "    if valida_cnpj_ons(texto):\n",
        "        print('CNPJ do ONS encontrado no arquivo:', arquivo)\n",
        "    else:\n",
        "        print('CNPJ DO ONS NÃO ENCONTRADO NO ARQUIVO:', arquivo)\n"
      ]
    },
    {
      "cell_type": "markdown",
      "metadata": {
        "id": "daKj2lMXSkSj"
      },
      "source": [
        "Obs: A função foi testada com os 200 primeiros arquivos de contratos sem problemas."
      ]
    },
    {
      "cell_type": "code",
      "source": [
        "def find_pattern(text, pattern):\n",
        "  i = 0\n",
        "  n = 1\n",
        "  interesse = []\n",
        "  while n > 0:\n",
        "    n = text.find(pattern, i)\n",
        "    if n > 0:\n",
        "      interesse.append(n)\n",
        "    i = n + 1\n",
        "  return interesse\n",
        "\n",
        "find_pattern(text, 'razao')\n"
      ],
      "metadata": {
        "colab": {
          "base_uri": "https://localhost:8080/"
        },
        "id": "JvEY6QgJBnXR",
        "outputId": "c2c38d3e-c0a3-4ae0-d342-582bef142937"
      },
      "execution_count": null,
      "outputs": [
        {
          "output_type": "execute_result",
          "data": {
            "text/plain": [
              "[56568]"
            ]
          },
          "metadata": {},
          "execution_count": 87
        }
      ]
    },
    {
      "cell_type": "markdown",
      "source": [
        "## Razão Social\n"
      ],
      "metadata": {
        "id": "cOxzXTsJGcdd"
      }
    },
    {
      "cell_type": "code",
      "source": [
        "text"
      ],
      "metadata": {
        "colab": {
          "base_uri": "https://localhost:8080/",
          "height": 123
        },
        "id": "fL6DktDrfisG",
        "outputId": "3b8ff122-c077-4ae3-8da4-14348d68be73"
      },
      "execution_count": null,
      "outputs": [
        {
          "output_type": "execute_result",
          "data": {
            "text/plain": [
              "'cct no 0012020 contrato de conexao ao sistema de transmissao cct 0012020 contratantes atlantico concessionaria de transmissao de energia do brasil sa araguaia niquel metais ltda interveniencia operador nacional do sistema eletrico ons instalacoes envolvidas subestacao xinguara ii barramento de 230 kv pagina 1 de 39 \\x0ccct no 0012020 sumario t i t u l o i das definicoes aplicaveis ao presente contrato 6 t i t u l o ii do objeto da caracterizacao do objeto do prazo e da vigencia 9 capitulo i do objeto 9 capitulo ii da caracterizacao do objeto 9 capitulo iii do prazo e da vigencia 10 t i t u l o iii da implantacao 10 capitulo i da implantacao das instalacoes de conexao 10 t i t u l o iv taxa de conservacao das instalacoes 18 capitulo i da taxa de conservacao 18 t i t u l o v da fase operacional das instalacoes de conexao 19 capitulo i dos procedimentos de rede e do acordo operativo 19 capitulo ii da operacao e manutencao das instalacoes de conexao 20 capitulo iii adequacoes ou modificacoes nas instalacoes de conexao 21 capitulo iv do sistema de medicao de faturamento smf 22 capitulo v do mutuo acesso as instalacoes de conexao 23 capitulo vi das normas de seguranca 23 t i t u l o vi dos encargos de conexao ao sistema de transmissao e outros custos 23 capitulo i dos encargos 23 t i t u l o vii do caso fortuito ou de forca maior 24 t i t u l o viii da responsabilidade das partes 25 capitulo i das penalidades 25 capitulo ii qualidade de energia 25 t i t u l o ix da rescisao contratual e das suas consequencias 25 titulo x dos pagamentos 25 t i t u l o xi da confidencialidade 26 t i t u l o xii da solucao de controversias 27 t i t u l o xiii das disposicoes gerais 28 anexo i instalacoes de conexao da usuaria 32 anexo ia diagrama preoperacional 32 anexo ii identificacao do ponto de conexao da usuaria e compartilhamentos entre as partes 33 anexo iii portaria mme 34 anexo iv resolucao autorizativa aneel no 91472020 34 anexo v parecer de acesso e revalidacao 34 anexo vi oficio no 1232020srtaneel 35 anexo vii diretrizes para elaboracao do acordo operativo 36 anexo a relacao de pessoal credenciado da transmissora 39 anexo b relacao de pessoal credenciado da usuaria 39 anexo c diagrama unifilar das instalacoes de conexao e dos pontos de conexao da transmissora 39 anexo d diagrama unifilar das instalacoes da usuaria com pontos de conexao 39 pagina 2 de 39 \\x0ccct no 0012020 contrato de conexao ao sistema de transmissao que entre si fazem a atlantico de transmissao de energia do brasil sa e araguaia niquel metais ltda com interveniencia do ons operador nacional do sistema eletrico concessionaria de um lado e doravante denominada simplesmente transmissora a atlantico concessionaria de transmissao de energia do brasil sa concessionaria de servico publico de transmissao de energia eletrica mediante contrato de concessao no 0162010 firmado com a aneel em 22122010 com sede na cidade e estado do rio de janeiro na avenida presidente vargas no 955 15o andar centro cep 20071004 inscrita no cnpj sob o no 12402255000160 representada por seus diretores ao final assinados e de outro lado doravante denominada simplesmente usuaria a empresa araguaia niquel metais ltda classificada como consumidor livre nos termos da portaria no 168 do mme de 26 de junho de 2019 inscrita no cnpjmf sob o no 97515035000790 sociedade constituida e existente de acordo com as leis do brasil com sede na rua paraiba no 1465 sala 1102 savassi belo horizonte mg cep 30130148 representada por seus diretores ao final assinados e com a interveniencia do doravante denominado simplesmente ons o operador nacional do sistema eletrico pessoa juridica de direito privado constituido sob a forma de associacao civil sem fins lucrativos autorizado a executar as atividades de coordenacao e controle da operacao da geracao e da transmissao de energia eletrica no sistema interligado nacional sin nos termos do artigo 13 da lei no 9648 de 27 de maio de 1998 e do decreto no 5081 de 14 de maio de 2004 com sede na cidade de brasilia estado do distrito federal na asa sul area de servicos publicos lote a edificio cnos inscrito no cnpj sob o no 02831210000157 e com escritorio central na cidade do rio de janeiro estado do rio de janeiro na rua julio do carmo no 251 cidade nova neste ato representado por seus representantes legais ao final assinados considerando que a b instalacoes de seu a usuaria foi autorizada por meio da resolucao autorizativa 9147 de 2020 bem como pela portaria no 168 de 26062019 a estabelecerse como consumidor livre e interesse para acessar o sistema de implantar as transmissao por meio de um modulo de entrada de linha no barramento de 230 kv compativel com o arranjo de barra dupla com disjuntor simples e quatro chaves bd4ch na se xinguara 2 de propriedade da transmissora localizada no municipio de xinguara estado do para o ons emitiu o parecer de acesso dta2020pa0073r0 de 29042020 revalidado por meio do dta2020pa0073r0rv o qual estabelece as condicoes do acesso da usuaria a rede basica sendo que em caso de haver alteracao do referido parecer o presente instrumento podera ser revisado por acordo entre as partes atraves de termo aditivo a este instrumento assinado por ambas as partes pagina 3 de 39 \\x0cc d e f a transmissora ira operar e manter legalmente as instalacoes de transmissao de sua propriedade integrantes do sistema de transmissao as quais a usuaria estara conectada cct no 0012020 a usuaria operara e mantera uma linha de 230 kv bem como as suas instalacoes de uso exclusivo que serao conectadas as instalacoes de transmissao da transmissora e participara do sistema interligado o acesso ao sistema de transmissao sera realizado por meio da instalacao de uma entrada de linha em 230 kv compativel com o arranjo na subestacao xinguara 2 de 230 kv de propriedade da transmissora a lei no 964898 de 27 de maio de 1998 regulamentada pelo decreto no 2655 de 02 de julho de 1998 e o decreto no 5081 de 14 de maio de 2004 determinam dentre outras providencias que as atividades de coordenacao e controle da operacao da geracao e da transmissao de energia eletrica no sistema interligado serao executadas pelo ons com atribuicoes de executar o planejamento e a programacao da operacao e o despacho centralizado de geracao com vistas a otimizacao dos sistemas eletroenergeticos interligados executar a supervisao e coordenacao dos centros de operacao de sistemas eletricos executar a supervisao e o controle da operacao do sistema eletroenergetico nacional interligado e das interligacoes internacionais contratar e administrar os servicos de transmissao de energia eletrica e respectivas condicoes de acesso bem como os servicos ancilares propor a aneel as ampliacoes de instalacoes da rede basica de transmissao bem como dos reforcos do sistema interligado a serem considerados no planejamento da expansao dos sistemas de transmissao definir regras para a operacao das instalacoes da rede basica dos sistemas eletricos interligados a serem aprovadas pela aneel divulgar os indicadores de desempenho dos despachos realizados a serem auditados semestralmente pela aneel as transacoes de compra e venda de energia eletrica no sistema interligado serao realizadas no ambito da camara de comercializacao de energia eletrica ccee a compra e venda de energia eletrica entre concessionarios ou autorizados para todos os efeitos legais devem ser contratadas separadamente do acesso e uso dos sistemas de transmissao e de distribuicao g o ons deve propiciar e garantir aos usuarios o uso e acesso as instalacoes do sistema de transmissao pertencentes a rede basica para efetuarem suas transacoes de energia eletrica pagina 4 de 39 \\x0ccct no 0012020 h a contratacao e a administracao dos servicos de transmissao de energia eletrica que contemplam as condicoes de acesso e de uso da rede basica bem como dos servicos ancilares sao tambem atribuicoes do ons i as partes controlam e administram os servicos das suas respectivas instalacoes j a usuaria nesse caso de acordo com o disposto na resolucao aneel no 67 de 08 de junho de 2004 se responsabilizou pela elaboracao dos projetos basico e executivo alem da especificacao dos equipamentos a serem integrados a rede basica em estrita observancia aos procedimentos de rede e as normas e padroes tecnicos da transmissora k a usuaria tambem se responsabilizou pela implantacao das instalacoes de conexao l de acordo com o disposto no artigo 10 da resolucao aneel no 281 de 1o de outubro de 1999 o acesso aos sistemas de transmissao sera regido pelos procedimentos de rede pelos contratos celebrados entre as partes e pelas normas e padroes de carater especifico da concessionaria de transmissao detentora das instalacoes de transmissao a transmissora e a usuaria tem entre si justo e acordado celebrar com a interveniencia do ons o presente contrato de conexao ao sistema de transmissao doravante denominado contrato que se regera pelas disposicoes das leis no 907495 e no 964898 regulamentadas respectivamente pelos decretos no 171795 e 265598 pelas resolucoes da aneel e pelos procedimentos de rede e em observancia as normas e padroes tecnicos de carater geral e especifico da transmissora de acordo com os seguintes termos e condicoes pagina 5 de 39 \\x0ct i t u l o i das definicoes aplicaveis ao presente contrato cct no 0012020 clausula 1a para o efeito de permitir o perfeito entendimento e precisao da terminologia tecnica empregada neste contrato e seus anexos fica desde ja acordado entre as partes o conceito dos seguintes vocabulos e expressoes no singular ou no plural a acordo operativo acordo a ser celebrado entre as partes que define as atribuicoes responsabilidades e procedimentos que nao tenham sido regulados por este contrato mas necessarios ao relacionamento operacional entre as partes b adequacao alteracao ou implantacao de equipamentos de uma conexao apos autorizacao da aneel visando i atender a expansao da usuaria melhorar a disponibilidade a criterio da usuaria e a supervisao das instalacoes de conexao pelo ons ou ii resultante de alteracoes de requisitos tecnicos nos procedimentos de rede eou da ccee c analise de perturbacao processo que corresponde a busca da identificacao da origem de anormalidades e dificuldades encontradas durante a execucao da operacao dos sistemas de geracao transmissao e distribuicao com o objetivo de estabelecer medidas corretivas e preventivas que possam ser adotadas pela transmissora e pela usuaria para solucionar os problemas encontrados d aneel agencia nacional de energia eletrica criada pela lei no 942796 de 26 de dezembro de 1996 e capacidade operativa e o menor valor dentre as capacidades nominais dos f vaos e equipamentos conforme definido no acordo operativo caso fortuito ou de forca maior verificase no fato necessario cujos efeitos nao eram possiveis evitar ou impedir sendo assim considerados os casos e eventos caracterizados conforme os termos do paragrafo unico do artigo 393 do codigo civil brasileiro g ccee camara de comercializacao de energia eletrica criada pela lei no 10848 de 15 de marco de 2004 i h concessionaria de transmissao pessoa juridica com delegacao do poder concedente para a exploracao dos servicos publicos de transmissao de energia eletrica contrato de conexao ao sistema de transmissao cct significa o presente contrato celebrado entre a usuaria e a transmissora com a interveniencia do ons que estabelece os termos e condicoes para a conexao da usuaria ao sistema de transmissao contrato de constituicao de garantia contrato a ser firmado entre a usuaria e a transmissora para garantir o recebimento dos valores devidos pela usuaria a transmissora j k controversia operacional eventual divergencia de carater tecnicooperacional pagina 6 de 39 \\x0ccct no 0012020 l devidos pela usuaria a encargos de conexao montantes transmissora desde a data de entrada em operacao das instalacoes de conexao ate o termino do contrato relativos aos custos incorridos com o projeto a construcao os equipamentos a medicao e a operacao e manutencao das instalacoes de conexao implantadas no ponto de conexao incluindo a reposicao e manutencao dos estoques de itens sobressalentes e reservas tecnicas das instalacoes de conexao nao contemplando contudo o custo referente a depreciacao para reposicao e substituicao dos equipamentos das instalacoes de conexao doados pela usuaria ao fim do contrato eou de vida util dos mesmos bem como o custo do medidor de faturamento de energia que devera ser adquirido pela usuaria m entrada de linha conjunto dos equipamentos e de infraestrutura destinado a conexao de uma linha de transmissao em uma subestacao e a sua operacao compreendendo disjuntores chaves seccionadoras transformadores de corrente e potencial pararaios sistemas de comunicacao carrier etc sistemas de protecao comando e controle estruturas e suportes cabos de controle isoladores barramentos conexoes similares e servicos auxiliares n ipca indice de precos ao consumidor amplo da fundacao instituto brasileiro de geografia e estatistica ibge ou em caso de sua extincao o indice definido pela aneel ou por lei para sucedelo o instalacoes conjunto de todos os itens de infraestrutura e de equipamentos de transmissao inerentes a prestacao de servico de transmissao de energia existentes na subestacao e pertencentes a cada uma das partes p instalacoes de conexao conjunto de equipamentos incluindo as entradas de linha e a interligacao de barras implantadas pela usuaria com a finalidade especifica de interligar as suas instalacoes ao sistema de transmissao implantadas no ponto de conexao conforme os documentos que integram este instrumento q instalacoes de transmissao subestacoes linhas de transmissao e seus terminais transformadores e suas conexoes e demais equipamentos destinadas a cumprir funcoes de regulacao de tensao controle de fluxo de potencia ou conversao de frequencia integrantes da concessao servico publico de transmissao e pertencentes a transmissora item termo geral que designa qualquer parte subsistema sistema ou equipamento que possa ser considerado individualmente r s interligacao de barras sao as instalacoes e os equipamentos destinados a interligar os barramentos de uma subestacao compreendendo disjuntor chaves seccionadoras transformadores de corrente e de potencial sistemas de protecao comando e controle estruturas suportes e as obras civis correspondentes cabos de controle isoladores barramentos conexoes e similares e servicos auxiliares mensagem operativa documento com vigencia temporaria de natureza interna ao agente ou que atenda a acordo operativo destinado a incluir retificar ou complementar procedimentos operativos vigentes em decorrencia de alteracoes nas condicoes operativas dos sistemas eletroenergetico de supervisao e controle oue de telecomunicacoes ou a atender a realizacao de intervencoes testes e ensaios ou a enviar informacoes t pagina 7 de 39 \\x0ccct no 0012020 u ons operador nacional do sistema eletrico pessoa juridica de direito privado sem fins lucrativos constituido sob a forma de associacao civil autorizado e responsavel em executar as atividades de coordenacao e controle da operacao da geracao e da transmissao de energia eletrica no sistema interligado nacional sin nos termos do art 13 da lei ndeg 9648 de 27 de maio de 1998 e do decreto no 5081 de 14 de maio de 2004 integrado por titulares de concessao permissao ou autorizacao e por outros agentes vinculados aos servicos e as instalacoes de energia eletrica e por consumidores livres conectados a rede basica v parte a transmissora ou a usuaria que sao referidas em conjunto como partes w ponto de conexao instalacao de propriedade da transmissora que se destina a estabelecer o acesso da usuaria ao sistema de transmissao x procedimentos de rede documento elaborado pelo ons com a participacao dos agentes e aprovado pela aneel que estabelece os procedimentos e os requisitos tecnicos para o planejamento a implantacao o uso e a operacao do sistema de transmissao as penalidades pelo descumprimento dos compromissos assumidos pelos diversos usuarios do sistema de transmissao bem como as responsabilidades do ons e de todos os usuarios y rede basica instalacoes pertencentes ao sistema interligado identificadas segundo regras e condicoes estabelecidas pela aneel z sistema de transmissao sao as instalacoes e equipamentos de transmissao considerados integrantes da rede basica bem como as conexoes e demais instalacoes de transmissao pertencentes a uma concessionaria de transmissao aa sistema interligado instalacoes responsaveis pelo suprimento de energia eletrica a todas as regioes do pais eletricamente interligadas bb sobrecarga operacao de um equipamento com carregamento acima da capacidade operativa conforme definido nos procedimentos de rede cc subestacao instalacao pertencente a transmissora neste caso denominada subestacao xinguara 2 de 230 kv dd termos de garantia significam os termos de garantia emitidos pelos fabricantes fornecedores construtores ou quaisquer outros agentes envolvidos na implementacao das instalacoes de conexao indicadas no anexo i ee tributos todos os impostos taxas contribuicoes e encargos incidentes sobre o objeto deste contrato excluidos i qualquer tributo existente ou que venha a ser criado sobre o lucro liquido ou resultados de uma das partes ii o imposto sobre a renda da pessoa juridica a contribuicao social sobre o lucro e impostos e contribuicoes sobre movimentacoes financeiras ff usuarios todos os agentes conectados ao sistema de transmissao que venham a fazer uso da rede basica pagina 8 de 39 \\x0ct i t u l o ii do objeto da caracterizacao do objeto do prazo e da vigencia cct no 0012020 capitulo i do objeto clausula 2a constitui objeto do presente contrato o estabelecimento das condicoes procedimentos responsabilidades tecnicooperacionais e comerciais que irao regular i a conexao da usuaria ao sistema de transmissao por meio das instalacoes de conexao por meio de um modulo de entrada de linha em 230 kv conforme listadas no anexo i deste contrato ii a implantacao das instalacoes de conexao relacionadas respectivamente no anexo i deste contrato conforme cronograma para acesso ate setembro de 2022 paragrafo unico a usuaria sera responsavel pela aquisicao projeto e execucao das instalacoes de conexao no ponto de conexao listadas no anexo i para a sua conexao ao sistema de transmissao sob a supervisao da transmissora capitulo ii da caracterizacao do objeto clausula 3a para melhor caracterizacao do objeto deste contrato e das obrigacoes das partes consideramse pecas dele integrantes e complementares independentemente de anexacao em tudo aquilo que com ele nao conflitarem os seguintes documentos a relacao das instalacoes de conexao e dos pontos de conexao conforme anexos i e ii respectivamente b portaria mme no 168 de 26062019 anexo iii c resolucao autorizativa 9147 de 2020 anexo iv d parecer de acesso no dta2020pa0073r0 de 29042020 e dta2020pa0073r0rv de 20082020 anexo v e oficio no1232020srtaneel anexo vi f acordo operativo a ser elaborado conforme diretrizes do anexo vii pagina 9 de 39 \\x0ccct no 0012020 ss 1o ss 2o ss 3o ocorrendo divergencias entre o estipulado nos documentos acima e este contrato prevalecerao as disposicoes deste contrato obedecendose a partir de entao a ordem de prioridade segundo a qual foram listados os demais documentos na clausula acima nao terao eficacia quaisquer excecoes a este contrato ou aos documentos emanados por uma das partes em relacao as quais a outra parte nao haja por escrito se declarada de acordo sera objeto de termo aditivo a este contrato qualquer revisao dos documentos anteriormente referidos capitulo iii do prazo e da vigencia clausula 4a o presente contrato entra em vigor a partir da data de sua assinatura assim permanecendo ate a extincao da autorizacao da usuaria ou da concessao da transmissora o que ocorrer primeiro paragrafo unico caso haja prorrogacao da autorizacaoconcessao das partes este contrato devera ser prorrogado pelo prazo do novo periodo de autorizacaoconcessao t i t u l o iii da implantacao capitulo i da implantacao das instalacoes de conexao clausula 5a e de responsabilidade da usuaria a implantacao das instalacoes de conexao sendo tambem de sua responsabilidade a implementacao das adequacoes que se fizerem necessarias observando os requisitos as normas tecnicas e os padroes definidos pela transmissora pagina 10 de 39 \\x0cclausula 6a cct no 0012020 os custos incorridos pela transmissora na fase de implantacao das instalacoes de conexao quais sejam as atividades de analise de projetos da usuaria o fornecimento construcao e a participacao no de documentos comissionamento das instalacoes de conexao necessarios a conexao da usuaria ao sistema de transmissao serao integralmente ressarcidos pela usuaria os custos explicitados no caput acima que serao ressarcidos pela usuaria serao devidos a partir da data de assinatura do presente cct fiscalizacao da tecnicos ss 1o ss 2o ss 3o cabera a usuaria o pagamento do montante de r 15609736 cento e cinquenta e seis mil noventa e sete reais e trinta e seis centavos para a transmissora correspondente a ate 30 tres por cento do valor novo de reposicao do modulo de conexao implantado referente a setembro de 2020 de acordo com a resolucao aneel no 672004 conforme alterada pela resolucao normativa no 815 de 22 de maio de 2018 o qual sera reajustado pelo ipca acumulado valor este que cobrira todos os custos incorridos as instalacoes de conexao referidos no caput desta clausula 6a as notas de debitos emitidos pela transmissora terao vencimento no dia 25 vinte e cinco do mes subsequente as datas de aprovacao e liberacao das instalacoes respectivamente caso o final das atividades de construcao eou comissionamento na subestacao nao se de em ate 10 dez meses apos a data de mobilizacao e instalacao do canteiro de obras da usuaria a usuaria passara a pagar mensalmente apos aquela data o valor de r 15600 quinze mil e seiscentos reais valor referido a outubro2020 o qual sera reajustado pela variacao acumulada do ipca no periodo compreendido entre o mes de mobilizacao e instalacao de canteiro e o mes anterior a cobranca pagina 11 de 39 \\x0ccct no 0012020 ss 4o para as atividades na fase de implantacao das instalacoes de conexao pela usuaria na subestacao sera considerado o regime de trabalho no horario das 8h as 17h de segunda a sextafeira nao havera aos sabados aos domingos e feriados atividades na subestacao por parte da usuaria caso seja necessaria a realizacao de atividades nestes dias em que nao ha expediente fica acordado que a usuaria devera comunicar tal fato a transmissora com no minimo 15 quinze dias de antecedencia a usuaria arcara integralmente com todos os custos e despesas necessarios para realizacao das ditas atividades fora do horario de regime de trabalho estabelecido acima clausula 7a a usuaria devera implementar as instalacoes de conexao observando todas as exigencias legais em especial os requisitos ambientais aplicaveis adotando todas as providencias necessarias junto aos orgaos responsaveis para obtencao dos licenciamentos necessarios tais como sem se limitar inscricao estadual e municipal alvara registro de anotacao de responsabilidade tecnica art registro no inss matricula cei bem como a instalacao da placa de responsabilidade tecnica por sua conta e risco exclusivos e cumprir com todas as condicionantes do licenciamento para implantacao enviando copia dos respectivos comprovantes a transmissora quando solicitado ss 1o ss 2o a usuaria respondera por toda e qualquer reclamacao intimacao multa e medidas judiciais e extrajudiciais decorrentes do comprovado descumprimento do disposto no caput desta clausula a transmissora nao sera responsabilizada caso o empreendimento da usuaria sofra embargo de qualquer natureza judicial fiscal ambiental fundiario e etc decorrente das atividades de implantacao das instalacoes de conexao clausula 8a a usuaria devera realizar todos os estudos necessarios e eventuais ensaios eou testes que demonstrem a compatibilizacao de suas instalacoes com as da transmissora sendo de sua responsabilidade a implementacao das adequacoes que se fizerem necessarias sempre observados os requisitos as normas tecnicas e os padroes da transmissora a usuaria tambem devera revisar todos os estudos de seletividade de transformadores reatores barramentos e linhas de transmissao adjacentes ao ponto de conexao da usuaria para as linhas de transmissao a usuaria devera revisar os estudos de seletividade de ambos os terminais da linha e respectivos reatores de linha para transformadores a usuaria devera revisar os estudos referente a todos os enrolamentos do transformador clausula 9a a transmissora devera disponibilizar as informacoes necessarias para a compatibilizacao prevista na clausula 8a no prazo de 7 dias corridos apos a assinatura deste contrato os documentos que estejam passando por atualizacao em decorrencia de pagina 12 de 39 \\x0cacessos de outras empresas ou de ampliacoes da subestacao serao encaminhados para a usuaria apos a aprovacao das revisoes de conforme construido dos referidos desenhos em processo de atualizacao cct no 0012020 clausula 10a de forma a manter a fidelidade e coerencia da documentacao que representa a instalacao como um todo todas as revisoes ou atualizacoes de quaisquer desenhos ou documentos de projeto que contenham mesmo que parcialmente representacoes das instalacoes da transmissora deverao ser confeccionadas conforme o padrao do original fornecido pela transmissora e deverao observar o disposto nos seguintes paragrafos ss 1o ss 2o ss 3o ss 4o ss 5o ss 6o ss 7o ss 8o toda tramitacao da documentacao tecnica devera ser feita atraves da plataforma da transmissora greendocs a usuaria devera adquirir licenca junto a empresa w3k para acesso a plataforma da transmissora os desenhos ou documentos de projeto fornecidos pela transmissora que nao estiverem em formato autocad deverao ser transformados redesenhados no formato autocad pela usuaria sempre utilizando os mesmos padroes dos desenhos existentes os documentos redesenhados devem ser aprovados pela transmissora antes da execucao das revisoes pertinentes a obra da usuaria sao classificados como desenhos de projeto todos os documentos fornecidos relativos ao projeto executivo e ao projeto do fornecimento destinados ao empreendimento da usuaria para os desenhos e documentos ja existentes da transmissora diretamente afetados pelas atividades da usuaria a usuaria devera efetuar as devidas revisoes demonstrando claramente as novas instalacoes os desenhos e documentos de carater geral tais como arranjo geral malha de terra dutos e canaletas unifilares planta geral de fundacoes e etc deverao tambem ser revisados demonstrando as novas instalacoes da usuaria e nao sera aceito pela transmissora nestes desenhos e documentos apenas a indicacao de desenhos ou documentos de referencia caso nao seja possivel incluir nos desenhos ou documentos mencionados no ss 5o desta clausula as novas instalacoes a usuaria devera confeccionar novos desenhos e documentos que demonstrem todas as instalacoes estes novos desenhos e documentos serao parte integrante do acervo da transmissora os novos desenhos e documentos que fazem parte do acervo da usuaria que a transmissora necessite para uma compreensao de todas as suas instalacoes passarao a fazer parte integrante do acervo da transmissora qualquer desenho ou documento que vier a sofrer revisao pela usuaria apos a conclusao da implantacao das instalacoes que afete a transmissora devera ser submetido a transmissora para sua liberacao formal pagina 13 de 39 \\x0css 9o ss 10o ss 11o ss 12o ss 13o ss 14o ss 15o ss 16o ss 17o cct no 0012020 durante a fase de implantacao das instalacoes de conexao a usuaria devera submeter a transmissora todos os desenhos e documentos de projeto para a liberacao formal dos mesmos pela transmissora a usuaria devera encaminhar a transmissora todos os desenhos e documentos de projeto em 01 uma copia em papel em meio magnetico dos desenhos e documentos de projeto referentes as instalacoes de conexao mencionados no ss 8o desta clausula aos cuidados do departamento de operacao e manutencao com prazo regido pelas regras de aprovacao de projeto da transmissora para analise e liberacao dos mesmos pela transmissora todos os desenhos novos eou aqueles a serem redesenhados elaborados pela usuaria deverao ser executados em cad com formato dwg 100 compativel com software autocad 2000 da autodesk todas as listas de material e memorias de calculo dentre outros elaboradas pela usuaria deverao ser fornecidas preferencialmente em formato a4 a transmissora tera o prazo de 30 trinta dias contados a partir do recebimento dos desenhos e documentos de projeto para sua analise e liberacao formal caso a transmissora venha a constatar a necessidade de alteracoes nos desenhos e documentos de projeto devera comunicar a usuaria em ate 30 dias indicando exatamente quais sao os conflitos ou desconformidades a serem sanados a usuaria devera entao providenciar as acoes pertinentes e reencaminhar os desenhos e documentos evidenciando as correcoes em prazo razoavel indicado pela transmissora cabendo a transmissora em novo prazo de 30 trinta dias contados a partir do recebimento dos desenhos e documentos a analise e liberacao nao sera imputada a transmissora em qualquer hipotese a responsabilidade por qualquer erro nos desenhos e documentos de projeto originalmente enviados pela usuaria para a liberacao da transmissora no final da implantacao a usuaria devera fornecer a transmissora 01 uma copia em meio magnetico de todos os desenhos e documentos de projeto referentes as instalacoes de conexao que sofreram revisoes para que os mesmos facam parte integrante do acervo da transmissora a partir do inicio da execucao das atividades de implantacao associadas a desenhos e documentos de projeto liberados pela transmissora a mesma sera responsavel por eventuais acoes de correcao identificadas como necessarias posteriormente a liberacao para execucao das atividades salvo nos casos onde se verificar qualquer erro nos desenhos e documentos de projeto originalmente baixados pela usuaria atraves do sistema greendocs ss 18o os documentos novos elaborados pela usuaria que farao parte do acervo da transmissora deverao seguir os padroes de apresentacao e numeracao da transmissora pagina 14 de 39 \\x0css 19o ss 20o ss 21o cct no 0012020 nao sera imputada a transmissora em qualquer hipotese a responsabilidade por qualquer erro ou omissao nos desenhos e documentos de projeto enviados pela usuaria para a liberacao da transmissora as partes concordam que o escopo da analise dos desenhos e da documentacao realizada pela tecnica apresentada pela usuaria transmissora se restringe a verificacao sobre os impactos aos ativos da interfaces entre os ativos da usuaria e da transmissora e nas transmissora a analise da transmissora nao caracteriza nenhum tipo de responsabilidade tecnica sobre o atendimento de normas correcao dos calculos estudos ou requisitos de meio ambiente saude e seguranca de pessoas e seguranca do sistema associados o atendimento desses requisitos e de exclusiva responsabilidade da usuaria a usuaria devera fornecer a transmissora em formato digital editavel todos os desenhos e documentos de projeto referentes a implantacao de instalacoes que foram analisadas e sofreram revisoes bem como os documentos complementares emitidos pelo usuaria e encaminhados durante a fase de analise de projetos para a transmissora em revisao conforme construido para que facam parte integrante do acervo da transmissora os desenhos em suas versoes finais conforme construidos deverao ser fornecidos tambem em duas 2 duas vias impressas o prazo de entrega e penalizacoes para atraso estao descritos na clausula 43 clausula 11a a usuaria e responsavel pelos riscos de reposicao ou recuperacao de todos os bens envolvidos decorrentes de sinistros ou fatos danosos contemplando a remocao do sinistrado a aquisicao do novo ativo o transporte eou a instalacao no caso de dolo ou culpa da transmissora na execucao de suas atividades a usuaria responsabilidades estabelecidas no ficando a transmissora responsavel por ressarcir a usuaria por quaisquer danos resultantes de sua acao ou omissao culposa ou dolosa caput acima isenta das ficara paragrafo unico clausula 12a constituem obrigacoes da usuaria alem de outras previstas neste contrato a providenciar a aquisicao dos equipamentos e materiais necessarios para a implantacao das instalacoes de conexao arcando inclusive com os custos financeiros do medidor de faturamento de energia de acordo com as especificacoes definidas neste contrato procedimentos de rede e conforme disposto no artigo 18 da ren 281 de 1999 b executar as obras civis e a montagem dos equipamentos e das instalacoes em estrita observancia as normas e padroes tecnicos da transmissora e aos requisitos dos procedimentos de rede pagina 15 de 39 \\x0ccct no 0012020 c implantar os sistemas necessarios a operacao e manutencao das instalacoes de conexao referentes a supervisao comando e controle atendendo aos padroes e aos requisitos tecnicos dos procedimentos de rede d disponibilizar a transmissora ate o inicio do comissionamento das instalacoes de conexao as relacoes estabelecidas na alinea a da clausula 3a deste instrumento e fornecer a transmissora as informacoes relativas a limites capacidades e restricoes operativas dos equipamentos e sistemas integrantes das instalacoes de conexao informar com pelo menos 15 quinze dias de antecedencia a programacao de inspecao e ensaios de equipamentos e materiais f g enviar para analise e liberacao da transmissora todos os documentos de projetos e de fabricacao desenhos memorias de calculos etc h acatar as interferencias tecnicamente fundamentadas que os fiscais nomeados pela transmissora para tanto vierem a fazer i obter a apresentacao de todos os certificados de ensaios de tipo dentro da validade de ate 05 cinco anos clausula 13a o comissionamento das instalacoes de conexao sera realizado pela usuaria e acompanhado pela transmissora de acordo com os requisitos tecnicos da transmissora devendo a usuaria prover os recursos humanos e materiais em quantidade e qualificacao necessarias ss 1o ss 2o ss 3o as partes resolverao os procedimentos tecnicos e administrativos que serao adotados durante a fase de comissionamento no prazo de ate 20 vinte dias anteriores a data de inicio da referida fase a usuaria comunicara a transmissora a conclusao do comissionamento e devera em ate 60 sessenta dias contados a partir de tal comunicacao encaminhar a transmissora a atualizacao as built da documentacao desenhos e manuais dos equipamentos das instalacoes de conexao na hipotese de identificacao de alguma naoconformidade e apos sua retificacao pela usuaria nos termos do paragrafo anterior a transmissora podera solicitar inspecao e realizacao de ensaios nas instalacoes de conexao visando verificar a adequacao aos seus requisitos e padroes tecnicos e dos procedimentos de rede caso a usuaria nao sane as nao conformidades identificadas ate a data limite da energizacao definida a usuaria estara sujeita a multa mensal de r 1000000 dez mil reais por pendencia para cada mes de atraso ss 4o caso a usuaria nao entregue o as built dentro do prazo estabelecido no ss2o a usuaria estara sujeita a multa mensal apos terminado o respectivo prazo definida na clausula 20a deste contrato pagina 16 de 39 \\x0ccct no 0012020 clausula 14a as instalacoes de conexao somente serao consideradas como disponiveis para a operacao apos a sua liberacao pela transmissora o que ocorrera tao logo observados pela usuaria os requisitos e normas operativas da transmissora os requisitos e normas operativas dos procedimentos de rede clausula 15a a entrada em operacao das instalacoes de conexao apos a sua liberacao pela transmissora dependera da liberacao pelo ons das intervencoes que se fizerem necessarias no sistema ss 1o ss 2o a incidencia de descontos de receita por indisponibilidades ou ainda incidencia de descontos de receita por cancelamento de desligamentos ja aprovados pelo ons cuja causa tenha sido provocada pela usuaria em decorrencia das intervencoes para a entrada em operacao das instalacoes a que se refere o caput desta clausula serao pagas pela usuaria na eventualidade do cancelamento ter sido provocado pela transmissora esta devera comunicar a usuaria no prazo de 5 cinco dias as devidas justificativas clausula 16a a transmissora devera estabelecer os procedimentos e a programacao de desligamentos necessarios a implantacao das instalacoes de conexao em comum acordo com a usuaria de forma a atender os prazos da transmissora e os prazos estabelecidos nos procedimentos de rede clausula 17a respondera por eventuais cada parte ressarcimentos por danos e prejuizos comprovadamente causados por ela seus prepostos ou terceiros por ela contratados durante a fase de implantacao das instalacoes de conexao pagina 17 de 39 \\x0ct i t u l o iv taxa de conservacao das instalacoes cct no 0012020 capitulo i da taxa de conservacao clausula 18a a usuaria pagara a transmissora uma taxa de conservacao mensal referentes as instalacoes de conexao necessaria para manter e conservar a area da subestacao correspondendo aos custos adicionais decorridos da conexao incorridos para tal finalidade tais como limpeza iluminacao vigilancia patrimonial tributos dentre outros sem contudo se restringir a estes paragrafo unico a taxa de conservacao so sera devida a partir da conclusao do comissionamento e energizacao das instalacoes da usuaria implantadas na subestacao clausula 19a a usuaria pagara a transmissora a taxa de conservacao estabelecida na clausula 19a8a acima referente a subestacao sendo o valor estabelecido em r 200249 dois mil e dois reais e quarenta e nove centavos mensais o qual sera reajustado pelo ipca ate o mes anterior a conclusao do comissionamento e energizacao das instalacoes da usuaria implantadas na subestacao paragrafo unico excepcionalmente para o mes de conclusao do comissionamento e energizacao das implantadas na instalacoes da usuaria subestacao a usuaria pagara a taxa de conservacao pro rata die a partir da data de energizacao clausula 20a a usuaria se compromete a entregar as versoes finais dos desenhos em versao conforme construido conforme descrito no ss 21o da erro fonte de referencia nao encontrada em ate 60 sessenta dias contados da data de energizacao das instalacoes da usuaria caso a usuaria descumpra este prazo passara a pagar mensalmente apos encerrado o prazo o montante de r 3000000 trinta mil reais para cada mes de atraso na entrega das versoes finais dos documentos conforme construido paragrafo unico o pagamento sera efetuado pela usuaria mediante apresentacao de documento de cobranca pela transmissora a usuaria pagina 18 de 39 \\x0ccct no 0012020 clausula 21a a usuaria se compromete a solucionar quaisquer pendencias de obra eou comissionamento em ate 60 sessenta dias contados da data de entrada de energizacao das instalacoes da usuaria caso a usuaria descumpra este prazo passara a pagar mensalmente apos encerrado o prazo o montante de r 3000000 trinta mil reais a titulo de multa moratoria para cada mes de atraso da implementacao das solucoes de pendencias de obra eou comissionamento paragrafo unico o pagamento sera efetuado pela usuaria mediante apresentacao de documento de cobranca pela transmissora a usuaria clausula 22a a taxa de conservacao podera ser revisada a qualquer tempo de comum acordo entre as partes caso haja alteracao nos custos incorridos pela usuaria objetivando manter o equilibrio economicofinanceiro deste contrato t i t u l o v da fase operacional das instalacoes de conexao capitulo i dos procedimentos de rede e do acordo operativo clausula 23a as partes se submeterao aos procedimentos de rede elaborados pelo ons e aprovados pela aneel clausula 24a o detalhamento dos procedimentos para o relacionamento tecnicooperacional referente as instalacoes de conexao nao explicitados neste documento ou nos procedimentos de rede sera estabelecido no acordo operativo contendo os itens descritos no anexo vii a ser firmado entre as partes ate a entrada em operacao das referidas instalacoes de conexao ss 1o ss 2o o acordo operativo deve se limitar ao estabelecimento dos procedimentos para a consecucao da relacao de obrigacoes e responsabilidades avencadas no contrato caso as instalacoes de conexao para atendimento da usuaria entrem em operacao comercial antes da celebracao do acordo operativo as partes acordarao os procedimentos que constarao de uma mensagem operativa como meio provisorio pagina 19 de 39 \\x0ccct no 0012020 ss 3o ss 4o a mensagem operativa nao altera as clausulas e as responsabilidades ora avencadas neste contrato e tera vigencia ate a assinatura do acordo operativo o acordo operativo entrara em vigor no 11 decimoprimeiro dia util a partir da data de sua assinatura e constitui um suplemento ao presente contrato nao alterando as clausulas e as responsabilidades ora avencadas neste contrato ss 5o o prazo de assinatura do acordo operativo sera de pelo menos 30 dias que antecedem a data de energizacao capitulo ii da operacao e manutencao das instalacoes de conexao clausula 25a cabera a usuaria operar e manter as instalacoes de conexao necessarias ao cumprimento do presente contrato de acordo com os procedimentos e padroes especificados nos procedimentos de rede e no acordo operativo clausula 26a as partes reconhecem que as instalacoes de conexao estao sujeitas a risco de interrupcoes programadas ou nao programadas bem como a danos ou a defeitos da natureza da prestacao do servico realizado pela transmissora sendo assim as partes convencionam que as instalacoes de conexao deverao ser operadas e mantidas em condicoes tecnicas satisfatorias de forma a minimizar as suas indisponibilidades sem prejuizo do disposto nas clausulas 11a e 17a clausula 27a as partes se comprometem a respeitar as capacidades operativas do ponto de conexao conforme valores especificados no acordo operativo ss 1o ss 2o ocorrendo qualquer violacao das capacidades operativas das instalacoes de conexao conforme valores especificados no acordo operativo as partes avaliarao a necessidade de implementar os ajustes tecnicos e comerciais necessarios para adaptar as instalacoes objeto da conexao para atender o novo valor de demanda as partes adotarao todos os procedimentos e medidas operativas descritas no acordo operativo para eliminar a violacao mencionada no ss 1o desta clausula pagina 20 de 39 \\x0ccct no 0012020 clausula 28a a responsabilidade de efetuar e informar ao ons as leituras das medicoes operacionais das conexoes sera de acordo com a legislacao vigente e com o estabelecido nos procedimentos de rede paragrafo unico eventuais implementacoes de medicao para atendimento aos procedimentos de rede unica e exclusivamente relacionadas as instalacoes de uso exclusivo da usuaria serao enquadradas como adequacao nas instalacoes de conexao clausula 29a as partes acordam que a responsabilidade por disturbios no sistema de transmissao devera ser apurada atraves de um processo de analise de perturbacao coordenado pelo ons e com a participacao das partes conforme processos e prazos estabelecidos nos procedimentos de rede capitulo iii adequacoes ou modificacoes nas instalacoes de conexao clausula 30a as partes avaliarao permanentemente as condicoes operativas das instalacoes de conexao identificando de comum acordo as adequacoes que se fizerem necessarias de forma a atender aos padroes e requisitos definidos nos procedimentos de rede e eliminar eventuais violacoes da capacidade operativa paragrafo unico e de responsabilidade da usuaria a elaboracao e informacao da previsao de carregamento nas instalacoes de conexao clausula 31a as adequacoes ou modificacoes nas instalacoes de conexao serao tratadas de acordo com os procedimentos de implantacao para as instalacoes de conexao estabelecidos no capitulo i do titulo iii deste contrato clausula 32a a usuaria arcara com os onus decorrentes de eventuais adequacoes ou modificacoes nas instalacoes de conexao de tal forma que a execucao das obras seja realizada requisitos e normas operativas dos procedimentos de rede segundo os complementados pelas normas e padroes especificos da transmissora e demais procedimentos que vierem a regular as instalacoes de conexao paragrafo unico os eventuais custos incorridos pela transmissora relacionados com as adequacoes ou modificacoes nas instalacoes de conexao serao reembolsados pela usuaria pagina 21 de 39 \\x0ccct no 0012020 clausula 33a caso as adequacoes das instalacoes de conexao tenham os investimentos e execucao efetuados pela transmissora deverao ser ressarcidos atraves de acordo entre as partes e tratadas em instrumento contratual especifico ou atraves de termo aditivo deste contrato capitulo iv do sistema de medicao de faturamento smf clausula 34a a transmissora sera a responsavel tecnica pela modelagem do sistema de medicao de faturamento smf relacionado no anexo i deste contrato nos termos do artigo 18 da resolucao aneel no 2811999 e oficio aneel no 1232020srtaneel cabendo a usuaria a sua implementacao ss1o fica desde ja acordado entre as partes que a usuaria devera a arcar com os custos e despesas financeiras de aquisicao projeto e implementacao dos equipamentos associados ao smf bem os montantes relativos a sua operacao e manutencao definidos neste contrato b fornecer todas as informacoes solicitadas pela transmissora referentes a implementacao e manutencao do smf c atender os requisitos de tele supervisao para operacao conforme estabelecido no modulo 2 dos procedimentos de rede d atender os requisitos de telecomunicacao conforme estabelecido no modulo 13 dos procedimentos de rede e e atender aos demais requisitos estabelecidos nos regulamentos aplicaveis ss2o a usuaria e responsavel financeiramente pela aquisicao de pecas sobressalentes materiais pecas de reposicao para suporte e ferramentas de suporte e servicos envolvidos ficando a transmissora em cargo apenas pela responsabilidade tecnica destas pecas ss3o qualquer intervencao relacionada ao smf inclusive nas instalacoes compartilhadas serao tidas em todos os seus aspectos como de interesse da usuaria clausula 35a todos os trabalhos de manutencao devem ser precedidos da elaboracao de um programa executivo com analise preliminar de risco paragrafo unico trabalhos pela os transmissora do cronograma das etapas e do programa executivo iniciados apos aprovacao serao so pagina 22 de 39 \\x0ccct no 0012020 clausula 36a a transmissora fiscalizara a execucao dos trabalhos de manutencao referentes ao smf das instalacoes de conexao relacionadas no anexo i zelando pelos aspectos de seguranca e confiabilidade operacional da subestacao clausula 37a o detalhamento dos procedimentos para o relacionamento tecnicooperacional referente ao sistema de medicao de faturamento smf de propriedade da usuaria nao explicitados neste documento sera estabelecido no acordo operativo a ser firmado entre as partes clausula 38a eventuais implementacoes de medicao para atendimento a ccee unica e exclusivamente relacionadas as instalacoes de uso exclusivo da usuaria serao enquadradas como adequacao nas instalacoes de conexao capitulo v do mutuo acesso as instalacoes de conexao clausula 39a as partes garantem mutuo acesso as instalacoes de conexao inclusive aos equipamentos de medicao conforme procedimentos estabelecidos no acordo operativo capitulo vi das normas de seguranca clausula 40a e de responsabilidade de cada parte o pleno e total atendimento por seus empregados bem como de terceiros por ela contratados as normas e instrucoes de seguranca nas instalacoes respondendo integralmente cada parte por danos comprovadamente causados decorrentes da inobservancia de tais normas t i t u l o vi dos encargos de conexao ao sistema de transmissao e outros custos capitulo i dos encargos clausula 41a nao serao cobrados encargos de conexao pela transmissora a usuaria pagina 23 de 39 \\x0ccct no 0012020 decorrentes das obras das instalacoes de conexao que serao implementadas diretamente pela usuaria ressalvando os montantes devidos pela usuaria referentes aos custos de projetos e acompanhamento da implementacao das instalacoes de conexao conforme definidos na clausula 6a ss 1o nos termos da resolucao normativa aneel no 2811999 cabera a usuaria o pagamento dos custos relativos a elaboracao do projeto aquisicao instalacao e o comissionamento do smf alem da instalacoes dos respectivos canais de comunicacao com o scde sistema de coleta de dados de energia da ccee camara de comercializacao de energia eletrica nos montantes a serem definidos quando da execucao do projeto executivo em comum acordo entre as partes ss2o o pagamento do montante acima devera ocorrer em parcela unica a serem faturados conforme titulo x deste cct ss 3o adicionalmente aos custos acima explicitados sera devido pela usuaria o valor mensal de r 850000 oito mil e quinhentos reais referentes aos custos de operacao e manutencao do smf e dos canais de comunicacao com a ccee nos termos do artigo 21 da resolucao normativa no 2811999 apenas caso seja definido pela aneel como de obrigacao da transmissora a serem faturados conforme titulo x deste cct t i t u l o vii do caso fortuito ou de forca maior clausula 42a caso alguma das partes nao possa cumprir quaisquer de suas obrigacoes em decorrencia de caso fortuito ou de forca maior o presente contrato permanecera em vigor mas a obrigacao afetada ficara suspensa por tempo igual ao de duracao do evento e proporcionalmente aos seus efeitos paragrafo unico a alegacao de motivo de caso fortuito ou de forca maior devera ser devidamente comprovada a parte afetada pela parte inadimplente demonstrando que as falhas em quaisquer componentes das instalacoes foram originadas em eventos que extrapolam as especificacoes de projeto e fabricacao bem como os procedimentos de montagem construcao comissionamento operacao e manutencao pagina 24 de 39 \\x0ct i t u l o viii da responsabilidade das partes cct no 0012020 capitulo i das penalidades clausula 43a as partes sujeitarseao as penalidades eou encargos conforme o caso estabelecidas neste contrato e legislacao pertinente pelo descumprimento das regras previstas neste contrato nos procedimentos de rede e demais normas aplicaveis capitulo ii qualidade de energia clausula 44a as partes serao responsaveis pela qualidade da energia eletrica dentro dos limites de desempenho de seus sistemas conforme estabelecido em resolucoes da aneel o ponto de conexao definido no anexo i e a fronteira de responsabilidade dos limites de desempenho de cada parte t i t u l o ix da rescisao contratual e das suas consequencias clausula 45a este contrato podera ser rescindido mediante acordo entre as partes devendo a usuaria comunicar por escrito a transmissora e ao ons com copia para a aneel a sua intencao de rescindir o contrato com antecedencia minima de 12 doze meses titulo x dos pagamentos clausula 46a a usuaria efetuara os pagamentos devidos relativos a este cct mediante a apresentacao de documento de cobranca mensal emitido pela transmissra no qual devera constar a data de emissao a data de vencimento que devera ser dia 25 de cada mes o periodo compreendido o valor em moeda corrente e o objeto do debito ss unico o documento de cobranca devera ser apresentado a usuaria com 15 quinze dias de antecedencia a data de vencimento requerida no caput clausula 47a a usuaria estara constituido em mora quando deixar de liquidar qual quer pagamentos mencionados ate a data de seus vencimentos dos pagina 25 de 39 \\x0ccct no 0012020 clausula 48a no caso de mora incidirao sobre o valor de atraso alem da atualizacao monetaria os seguintes acrescimos juros efetivos de mora de 12 ao ano calculados pro rata die e multa de 2 dois por cento ss 1o o valor do debito sera atualizado monetariamente pela variacao pro rata do ipca da fundacao getulio vargas do mes anterior ao vencimento ate o mes anterior ao do pagamento e acrescido multa e dos juros previstos no caput desta clausula ss 2o caso o atraso de pagamento seja menor ou igual a 30 trinta dias para os efeitos da aplicacao da atualizacao referida no caput e no paragrafo anterior sera considerada nula qualquer variacao negativa do ipca da fundacao getulio vargas ss 3o caso o atraso de pagamento seja verificado dentro do proprio mes para efeitos de aplicacao da atualizacao referida no caput sera utilizada variacao pro rata die do uipca da fundacao getulio vargas do mes anterior ao do pagamento ss 4o no caso da extincao do ipca da fundacao getulio vargas o valor do debito sera atualizado monetariamente por outro indice com funcao similar que venha substituilo previamente acordado entra as partes t i t u l o xi da confidencialidade clausula 49a cada parte concorda que da entrada em vigor do contrato ate 05 cinco anos apos sua extincao todas as informacoes e dados disponibilizados a outra parte serao considerados confidenciais pela outra parte conforme preceitua este contrato e nao divulgara tais informacoes e ou dados para terceiros sem que a outra parte aprove por escrito salvo no caso em que houver exigencia legal ou judicial quanto ao fornecimento de informacoes hipoteses em que a parte obrigada a divulgacao devera notificar previamente a outra parte a esse respeito paragrafo unico esta clausula nao eximira as partes do fornecimento de qualquer informacao eou dados a aneel ou ao ons mediante requerimento em conformidade com os procedimentos de rede pagina 26 de 39 \\x0ct i t u l o xii da solucao de controversias cct no 0012020 clausula 50a as partes admitem que apesar dos seus melhores esforcos no sentido de resolver todas as suas divergencias nem sempre os seus representantes poderao chegar a um acordo sendo assim a eventual divergencia nao solucionada sera considerada uma controversia que se inicia com o aviso escrito de uma parte a outra parte paragrafo unico as partes buscarao de comum acordo solucionar as controversias segundo os procedimentos estabelecidos na clausula 51a na clausula 52a e na clausula 53a clausula 51a dentro de 10 dez dias uteis do aviso escrito as partes poderao de comum acordo escolher 03 tres especialistas independentes cada parte escolhera 01 um especialista e os dois escolhidos elegerao de comum acordo um terceiro de notorio saber quanto ao tema em questao a quem encaminharao a controversia para emissao de parecer paragrafo unico serao considerados independentes aqueles que nao sao nem foram nos ultimos 05 cinco anos integrantes direta ou indiretamente do quadro de pessoal de qualquer das partes ou grupo economico que integram ou ainda respectivos conjuges e parentes ate segundo grau nao sao fornecedores ou compradores diretos ou indiretos de servicos ou produtos das partes ou aqueles que recebam proventos de qualquer natureza de uma das partes clausula 52a os especialistas terao 30 trinta dias prorrogaveis por igual periodo mediante sua solicitacao e a concordancia das partes para elaborar o parecer contendo subsidios para a solucao da controversia recebido o parecer as partes terao 05 cinco dias uteis para analisalo e resolver a controversia clausula 53a nao sendo indicados os especialistas nos termos da clausula 51a ou nao sendo resolvida a controversia nos termos da clausula 52a as partes concordam em se reunir dentro de 07 sete dias uteis na cidade do rio de janeiro estado do rio de janeiro ou em qualquer outro lugar que venha a ser acordado pelas partes para buscar a solucao definitiva da controversia caso as partes nao resolvam a controversia apos esse periodo a controversia devera ser solucionada conforme legislacao vigente pagina 27 de 39 \\x0ccct no 0012020 clausula 54a compete a aneel dirimir no ambito administrativo as controversias operacionais derivadas deste contrato paragrafo unico antes do encaminhamento a aneel as partes buscarao de comum acordo solucionar as controversias operacionais segundo os procedimentos estabelecidos na clausula 51a na clausula 52a e na clausula 53a t i t u l o xiii das disposicoes gerais clausula 55a as partes expressamente reconhecem nao haver qualquer vinculo empregaticio entre seus empregados empregados dos subcontratados ou terceiros por eles utilizados e a outra parte responsabilizandose por todas as obrigacoes fiscais previdenciarias legais ambiental mineraria e trabalhistas decorrentes de qualquer reclamacao ou demanda exigencia administrativa ou judicial relacionadas a ditos empregados ou terceiros clausula 56a caso uma parte venha a ser autuada notificada intimada citada ou condenada em razao do nao cumprimento de qualquer obrigacao atribuivel a outra parte seus subcontratados ou terceiros por esta designada seja de natureza fiscal trabalhista previdenciaria ambiental mineraria ou de qualquer outra especie a parte equivocadamente onerada sera ressarcida de todas as despesas necessarias a realizacao de sua defesa incluindo sem limitacao a garantia do juizo o valor dos honorarios e despesas conexas de seus advogados custas judiciais e administrativas eventuais despesas incorridas com a producao de provas e os onus integrais da sucumbencia recebida a demanda administrativa ou judicial pela parte inocente esta devera notificar a parte responsavel para que a parte responsavel possa optar pela conducao direta do processo a notificacao devera ser enviada em ate 13 um terco do prazo estabelecido para a apresentacao da defesa devendo a parte notificada responder no mesmo prazo a parte responsavel pela demanda devera todas as providencias necessarias a exclusao da parte ilegitima do polo passivo de tais autuacoes medidas administrativas eou judiciais tomar ss 1o ss 2o clausula 57a o termino deste contrato nao afetara quaisquer direitos ou obrigacoes anteriores a tal evento e obrigacoes ou direitos de qualquer das partes ainda que seu exercicio ou cumprimento se de apos a sua ocorrencia pagina 28 de 39 \\x0ccct no 0012020 clausula 58a e vedada a cessao de direitos ou obrigacoes derivados deste contrato sem o previo e expresso consentimento da outra parte e homologacao da aneel clausula 59a a criacao alteracao ou extincao dos tributos ou ainda a inclusao de incidencia sobre o objeto do contrato apos a sua assinatura quando comprovado seu impacto sobre o mesmo implicara a revisao dos montantes pagos pela usuaria a qualquer tempo para mais ou para menos nos termos da legislacao vigente observados os procedimentos estabelecidos pela aneel clausula 60a o presente contrato obriga as partes em carater irrevogavel e irretratavel em todos os seus termos clausulas e condicoes por si e seus sucessores a qualquer titulo e cessionarios autorizados clausula 61a todos os valores previstos no presente contrato poderao ser exigidos atraves de processo de execucao reconhecendo as partes desde ja que os aludidos valores podem ser apurados atraves de simples calculo aritmetico constituindo este instrumento titulo executivo extrajudicial nos termos do artigo 784 iii do novo codigo de processo civil clausula 62a fica assegurada as partes a prerrogativa de a qualquer tempo solicitar a revisao das clausulas e condicoes ora avencadas clausula 63a este contrato somente podera ser alterado mediante formalizacao de termo aditivo assinado pelas partes clausula 64a nenhum atraso ou tolerancia por qualquer das partes relativo ao exercicio de qualquer direito poder privilegio ou recurso fundado neste contrato sera tido como passivel de prejudicar tal direito poder privilegio ou recurso nem sera interpretado como renuncia dos mesmos pagina 29 de 39 \\x0ccct no 0012020 clausula 65a exceto pelas comunicacoes feitas de acordo com os procedimentos de rede qualquer aviso ou outra comunicacao de uma parte a outra a respeito deste contrato sera feita por escrito e podera ser entregue pessoalmente ou enviada por correio ou meio eletronico em qualquer dos casos como prova do seu recebimento ao endereco e em atencao dos representantes legais das partes conforme especificado abaixo transmissora business development department divisao regulatoria endereco avenida presidente vargas 955 15o andar centro rio de janeirorj cep 20071004 usuaria araguaia niquel metais ltda endereco rua paraiba no 1465 sala 1102 savassi belo horizonte mg cep cep 30130148 aplicamse a este contrato as normas e instrumentos legais relativos ao servico publico de transmissao de energia eletrica vigentes nesta data e os que vierem a ser editados por autoridade competente clausula 66a uma copia do presente contrato devera ser encaminhada pelo ons a aneel apos a sua assinatura assim como uma copia de seus aditamentos tambem devera ser encaminhada pelo ons a aneel clausula 67a este contrato sera regido e interpretado em todos os seus aspectos de acordo com a legislacao brasileira clausula 68a fica eleito o foro central da comarca do rio de janeiro estado do rio de janeiro para dirimir qualquer duvida ou questao decorrente deste contrato com expressa renuncia de qualquer outro por mais privilegiado que o seja pagina 30 de 39 \\x0ce por estarem assim justas e acordadas as partes celebram o presente instrumento em 03 tres vias de igual teor e forma obrigandose por si e seus sucessores na presenca das duas testemunhas cct no 0012020 a ser assinado eletronicamente pela atlantico concessionaria de transmissao de energia do brasil sa a ser assinado eletronicamente pela araguaia niquel metais ltda a ser assinado eletronicamente pelo ons a ser assinado eletronicamente pelas testemunhas de cada parte pagina 31 de 39 \\x0ccct no 0012020 anexos anexo i instalacoes de conexao da usuaria subestacao tensao se xinguara ii 230 kv se xinguara ii 230 kv descricao 01 um modulo entrada de linha no barramento de 230 kv compativel com o arranjo de barra dupla com disjuntor simples a quatro chaves bd4ch linha de transmissao em 230 kv circuito simples utilizando cabo 1 x 954 mcm por fase com 122 km de extensao para ligar o barramento de 230 kv da se xinguara ii ao da se araguaia niquel metais anexo ia diagrama preoperacional pagina 32 de 39 \\x0ccct no 0012020 anexo ii identificacao do ponto de conexao da usuaria e compartilhamentos entre as partes instalacoes da usuaria a serem implantadas na subestacao subestacao se xinguara ii tensao 230 kv modulo geral descricao de 230 kv instalacoes de propriedade da transmissora utilizadas de compartilhada pela usuaria forma item 1 2 3 instalacoes compartilhadas da transmissora observacao modulo geral 230 kv barramento 230 kv protecao diferencial de barras e propagacao da atuacao de falha de disjuntor todos os encargos ficarao por conta da usuaria modulo geral conjunto de todos os itens bens e servicos de infraestrutura comuns a subestacao compreendendo terreno cercas servicos de terraplenagem drenagem embritamento canaletas arruamento pavimentacao malha de terra e iluminacao do patio atencao no contrato nao consta o compartilhamento de servico auxiliar caso isso ocorra devera constar no cct e as questoes tecnicas devem ser discutidas com omet bem como todos os custos de ampliacao compra de cubiculo quadro transformadores de servico auxiliar projetos estudos entre outros serao pagos integralmente pela usuaria pagina 33 de 39 \\x0canexo iii portaria mme cct no 0012020 mme portaria no 168 de 26062019 anexo iv resolucao autorizativa aneel no 91472020 disponivel em httpwww2aneelgovbrcedocrea20209147tipdf anexo v parecer de acesso e revalidacao parecer de acesso no dta2020pa0073r0 revalidacao do parecer de acesso no dta2020pa0073r0rv pagina 34 de 39 \\x0canexo vi oficio no 1232020srtaneel cct no 0012020 pagina 35 de 39 \\x0ccct no 0012020 anexo vii diretrizes para elaboracao do acordo operativo com o objetivo de complementar as definicoes atribuicoes responsabilidades e procedimentos estabelecidos no contrato de conexao ao sistema de transmissao cct e nos procedimentos de rede necessarios ao relacionamento operacional entre a transmissora e a usuaria referentes as instalacoes de conexao as areas operacionais das duas empresas deverao elaborar um acordo operativo o qual devera conter itens relativos a 1 identificacao do acordo operativo identificacao do contrato de conexao ao qual o acordo operativo se refere 2 estrutura da operacao das empresas neste item e explicitado pela transmissora e pela usuaria a estrutura de operacao responsavel pela execucao da coordenacao supervisao controle e comando da operacao do sistema ao qual a usuaria esta conectada especificando o orgao de cada empresa responsavel por estas atividades sao fornecidas ainda como previsto nos anexos a e b uma lista do pessoal credenciado de cada empresa para exercer o relacionamento operacional e especificada a forma de sua atualizacao 3 codificacao de equipamentos e linhas de fronteira pagina 36 de 39 \\x0ccct no 0012020 informar a codificacao dos equipamentos de fronteira visando a seguranca do relacionamento operacional entre a transmissora e a usuaria fornecer como anexo anexos c e d os diagramas unifilares das instalacoes de conexao com pontos de conexao codificados conforme o paragrafo anterior e especificar a forma de sua atualizacao 4 meios de comunicacao especificar os meios de comunicacao postos a disposicao para o relacionamento operacional entre a transmissora e a usuaria 5 fluxo de informacoes detalhar o processo a ser utilizado para a transferencia das informacoes e dados disponiveis necessarios para as tratativas operacionais entre a transmissora e a usuaria relativo a determinacao dos encargos de uso da transmissao tempo real programacao analise e desempenho da operacao e do sistema 6 definicoes de intervencoes e desligamentos conceituar as intervencoes e desligamentos cujas definicoes serao utilizadas para fins de programacao e analise da operacao de acordo com os procedimentos de rede 7 procedimentos operacionais especificar os procedimentos a serem seguidos em regime normal de operacao referentes a programacao da operacao manobras entrega e recepcao de equipamentos para manutencao acesso as instalacoes intervencao de equipes de linhas energizadas esquema especiais de controle de carga tensao ou frequencia teste dos meios de comunicacao bem como em situacao de contingencia operacional quando de necessidade de religamento automatico eou manual apos desligamento caracterizacao de defeito ou disturbios e restricao de carga 8 solicitacao de intervencao no sistema especificar os procedimentos a serem seguidos para solicitacao de intervencoes tanto no sistema quanto nos meios de comunicacao e equipamentos vinculados a supervisao em tempo real detalhando prazos dados a serem informados e resposta a solicitacao 9 aspectos de seguranca do pessoal durante a execucao dos servicos com equipamento desenergizado relacionar as normas eou instrucoes de seguranca e outros procedimentos a serem seguidos para garantir a seguranca do pessoal durante a execucao dos servicos em equipamento desenergizado pagina 37 de 39 \\x0ccct no 0012020 10 responsabilidades sobre a operacao e manutencao das instalacoes de conexao especificar as responsabilidades pela operacao e manutencao das instalacoes envolvidas 11 responsabilidades sobre a manutencao do ponto de conexao especificar a empresa responsavel pela manutencao do ponto de conexao e o escopo das atividades de manutencao envolvidas bem como os procedimentos para notificacao de defeitos a usuaria 12 demais particularidades do ponto de conexao 13 data e assinatura do acordo ou de sua revisao datar e assinar representantes legais da transmissora e da usuaria o acordo ou a revisao pagina 38 de 39 \\x0canexo a relacao de pessoal credenciado da transmissora cct no 0012020 a ser firmado entre as partes posteriormente a assinatura do contrato anexo b relacao de pessoal credenciado da usuaria a ser firmado entre as partes posteriormente a assinatura do contrato anexo c diagrama unifilar das instalacoes de conexao e dos pontos de conexao da transmissora a ser firmado entre as partes posteriormente a assinatura do contrato anexo d diagrama unifilar das instalacoes da usuaria com pontos de conexao a ser firmado entre as partes posteriormente a assinatura do contrato pagina 39 de 39 \\x0c'"
            ],
            "application/vnd.google.colaboratory.intrinsic+json": {
              "type": "string"
            }
          },
          "metadata": {},
          "execution_count": 78
        }
      ]
    },
    {
      "cell_type": "code",
      "source": [
        "nlp = pt_core_news_sm.load()\n",
        "doc = nlp('CCT No 0012020 CONTRATO DE CONEXAO AO SISTEMA DE TRANSMISSAO CCT 0012020 Contratantes ATLANTICO CONCESSIONARIA DE TRANSMISSAO DE ENERGIA DO BRASIL SA ARAGUAIA NIQUEL METAIS LTDA Interveniencia OPERADOR NACIONAL DO SISTEMA ELETRICO ONS Instalacoes envolvidas SUBESTACAO XINGUARA II Barramento de 230 kV Pagina 1 de 39')\n",
        "print([(w.text, w.pos_) for w in doc])"
      ],
      "metadata": {
        "id": "o1kXUg6Wq_rK",
        "colab": {
          "base_uri": "https://localhost:8080/"
        },
        "outputId": "712db5c7-9952-4435-d7cf-a3ece018bbac"
      },
      "execution_count": null,
      "outputs": [
        {
          "output_type": "stream",
          "name": "stdout",
          "text": [
            "[('CCT', 'PROPN'), ('No', 'ADP'), ('0012020', 'NUM'), ('CONTRATO', 'NOUN'), ('DE', 'ADP'), ('CONEXAO', 'PROPN'), ('AO', 'ADP'), ('SISTEMA', 'NOUN'), ('DE', 'ADP'), ('TRANSMISSAO', 'NOUN'), ('CCT', 'PROPN'), ('0012020', 'NUM'), ('Contratantes', 'PROPN'), ('ATLANTICO', 'PROPN'), ('CONCESSIONARIA', 'ADJ'), ('DE', 'ADP'), ('TRANSMISSAO', 'PROPN'), ('DE', 'PROPN'), ('ENERGIA', 'PROPN'), ('DO', 'ADP'), ('BRASIL', 'PROPN'), ('SA', 'PROPN'), ('ARAGUAIA', 'PROPN'), ('NIQUEL', 'PROPN'), ('METAIS', 'VERB'), ('LTDA', 'PROPN'), ('Interveniencia', 'PROPN'), ('OPERADOR', 'PROPN'), ('NACIONAL', 'PROPN'), ('DO', 'ADP'), ('SISTEMA', 'PROPN'), ('ELETRICO', 'NOUN'), ('ONS', 'VERB'), ('Instalacoes', 'PROPN'), ('envolvidas', 'VERB'), ('SUBESTACAO', 'NOUN'), ('XINGUARA', 'ADJ'), ('II', 'PROPN'), ('Barramento', 'PROPN'), ('de', 'ADP'), ('230', 'NUM'), ('kV', 'NUM'), ('Pagina', 'NOUN'), ('1', 'NUM'), ('de', 'ADP'), ('39', 'NUM')]\n"
          ]
        }
      ]
    },
    {
      "cell_type": "code",
      "source": [
        "[it for it in doc if it.pos_ == 'PROPN']"
      ],
      "metadata": {
        "colab": {
          "base_uri": "https://localhost:8080/"
        },
        "id": "gHDGUzXEcy5D",
        "outputId": "a4195546-5536-4274-b9a3-cf542af50af5"
      },
      "execution_count": null,
      "outputs": [
        {
          "output_type": "execute_result",
          "data": {
            "text/plain": [
              "[CCT,\n",
              " CONEXAO,\n",
              " CCT,\n",
              " Contratantes,\n",
              " ATLANTICO,\n",
              " TRANSMISSAO,\n",
              " DE,\n",
              " ENERGIA,\n",
              " BRASIL,\n",
              " SA,\n",
              " ARAGUAIA,\n",
              " NIQUEL,\n",
              " LTDA,\n",
              " Interveniencia,\n",
              " OPERADOR,\n",
              " NACIONAL,\n",
              " SISTEMA,\n",
              " Instalacoes,\n",
              " II,\n",
              " Barramento]"
            ]
          },
          "metadata": {},
          "execution_count": 80
        }
      ]
    }
  ]
}